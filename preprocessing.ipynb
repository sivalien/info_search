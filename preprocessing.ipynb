{
 "cells": [
  {
   "cell_type": "markdown",
   "metadata": {},
   "source": [
    "Считываем данные"
   ]
  },
  {
   "cell_type": "code",
   "execution_count": 102,
   "metadata": {},
   "outputs": [],
   "source": [
    "import pandas as pd\n",
    "from search import Document\n",
    "import pickle\n",
    "import re"
   ]
  },
  {
   "cell_type": "code",
   "execution_count": 3,
   "metadata": {},
   "outputs": [
    {
     "data": {
      "text/html": [
       "<div>\n",
       "<style scoped>\n",
       "    .dataframe tbody tr th:only-of-type {\n",
       "        vertical-align: middle;\n",
       "    }\n",
       "\n",
       "    .dataframe tbody tr th {\n",
       "        vertical-align: top;\n",
       "    }\n",
       "\n",
       "    .dataframe thead th {\n",
       "        text-align: right;\n",
       "    }\n",
       "</style>\n",
       "<table border=\"1\" class=\"dataframe\">\n",
       "  <thead>\n",
       "    <tr style=\"text-align: right;\">\n",
       "      <th></th>\n",
       "      <th>type</th>\n",
       "      <th>id</th>\n",
       "      <th>subreddit.id</th>\n",
       "      <th>subreddit.name</th>\n",
       "      <th>subreddit.nsfw</th>\n",
       "      <th>created_utc</th>\n",
       "      <th>permalink</th>\n",
       "      <th>domain</th>\n",
       "      <th>url</th>\n",
       "      <th>selftext</th>\n",
       "      <th>title</th>\n",
       "      <th>score</th>\n",
       "    </tr>\n",
       "  </thead>\n",
       "  <tbody>\n",
       "    <tr>\n",
       "      <th>0</th>\n",
       "      <td>post</td>\n",
       "      <td>ftbp1i</td>\n",
       "      <td>2qh72</td>\n",
       "      <td>jokes</td>\n",
       "      <td>False</td>\n",
       "      <td>1585785543</td>\n",
       "      <td>https://old.reddit.com/r/Jokes/comments/ftbp1i...</td>\n",
       "      <td>self.jokes</td>\n",
       "      <td>NaN</td>\n",
       "      <td>My corona is covered with foreskin so it is no...</td>\n",
       "      <td>I am soooo glad I'm not circumcised!</td>\n",
       "      <td>2</td>\n",
       "    </tr>\n",
       "    <tr>\n",
       "      <th>1</th>\n",
       "      <td>post</td>\n",
       "      <td>ftboup</td>\n",
       "      <td>2qh72</td>\n",
       "      <td>jokes</td>\n",
       "      <td>False</td>\n",
       "      <td>1585785522</td>\n",
       "      <td>https://old.reddit.com/r/Jokes/comments/ftboup...</td>\n",
       "      <td>self.jokes</td>\n",
       "      <td>NaN</td>\n",
       "      <td>It's called Google Sheets.</td>\n",
       "      <td>Did you know Google now has a platform for rec...</td>\n",
       "      <td>9</td>\n",
       "    </tr>\n",
       "    <tr>\n",
       "      <th>2</th>\n",
       "      <td>post</td>\n",
       "      <td>ftbopj</td>\n",
       "      <td>2qh72</td>\n",
       "      <td>jokes</td>\n",
       "      <td>False</td>\n",
       "      <td>1585785508</td>\n",
       "      <td>https://old.reddit.com/r/Jokes/comments/ftbopj...</td>\n",
       "      <td>self.jokes</td>\n",
       "      <td>NaN</td>\n",
       "      <td>The vacuum doesn't snore after sex.\\n\\n&amp;amp;#x...</td>\n",
       "      <td>What is the difference between my wife and my ...</td>\n",
       "      <td>15</td>\n",
       "    </tr>\n",
       "    <tr>\n",
       "      <th>3</th>\n",
       "      <td>post</td>\n",
       "      <td>ftbnxh</td>\n",
       "      <td>2qh72</td>\n",
       "      <td>jokes</td>\n",
       "      <td>False</td>\n",
       "      <td>1585785428</td>\n",
       "      <td>https://old.reddit.com/r/Jokes/comments/ftbnxh...</td>\n",
       "      <td>self.jokes</td>\n",
       "      <td>NaN</td>\n",
       "      <td>[removed]</td>\n",
       "      <td>My last joke for now.</td>\n",
       "      <td>9</td>\n",
       "    </tr>\n",
       "    <tr>\n",
       "      <th>4</th>\n",
       "      <td>post</td>\n",
       "      <td>ftbjpg</td>\n",
       "      <td>2qh72</td>\n",
       "      <td>jokes</td>\n",
       "      <td>False</td>\n",
       "      <td>1585785009</td>\n",
       "      <td>https://old.reddit.com/r/Jokes/comments/ftbjpg...</td>\n",
       "      <td>self.jokes</td>\n",
       "      <td>NaN</td>\n",
       "      <td>[removed]</td>\n",
       "      <td>The Nintendo 64 turns 18 this week...</td>\n",
       "      <td>134</td>\n",
       "    </tr>\n",
       "    <tr>\n",
       "      <th>...</th>\n",
       "      <td>...</td>\n",
       "      <td>...</td>\n",
       "      <td>...</td>\n",
       "      <td>...</td>\n",
       "      <td>...</td>\n",
       "      <td>...</td>\n",
       "      <td>...</td>\n",
       "      <td>...</td>\n",
       "      <td>...</td>\n",
       "      <td>...</td>\n",
       "      <td>...</td>\n",
       "      <td>...</td>\n",
       "    </tr>\n",
       "    <tr>\n",
       "      <th>999995</th>\n",
       "      <td>post</td>\n",
       "      <td>30ekhl</td>\n",
       "      <td>2qh72</td>\n",
       "      <td>jokes</td>\n",
       "      <td>False</td>\n",
       "      <td>1427396885</td>\n",
       "      <td>https://old.reddit.com/r/Jokes/comments/30ekhl...</td>\n",
       "      <td>self.jokes</td>\n",
       "      <td>NaN</td>\n",
       "      <td>*zyan malik or whatever leaves 1d.  \\n*Kayne W...</td>\n",
       "      <td>With Zyan Malik leaving 1D..</td>\n",
       "      <td>0</td>\n",
       "    </tr>\n",
       "    <tr>\n",
       "      <th>999996</th>\n",
       "      <td>post</td>\n",
       "      <td>30ekft</td>\n",
       "      <td>2qh72</td>\n",
       "      <td>jokes</td>\n",
       "      <td>False</td>\n",
       "      <td>1427396863</td>\n",
       "      <td>https://old.reddit.com/r/Jokes/comments/30ekft...</td>\n",
       "      <td>self.jokes</td>\n",
       "      <td>NaN</td>\n",
       "      <td>[deleted]</td>\n",
       "      <td>Why did the exterminator go to Italy?</td>\n",
       "      <td>1</td>\n",
       "    </tr>\n",
       "    <tr>\n",
       "      <th>999997</th>\n",
       "      <td>post</td>\n",
       "      <td>30ek9i</td>\n",
       "      <td>2qh72</td>\n",
       "      <td>jokes</td>\n",
       "      <td>False</td>\n",
       "      <td>1427396794</td>\n",
       "      <td>https://old.reddit.com/r/Jokes/comments/30ek9i...</td>\n",
       "      <td>self.jokes</td>\n",
       "      <td>NaN</td>\n",
       "      <td>I'll be Bach</td>\n",
       "      <td>What did Arnold Schwarzenegger say when invite...</td>\n",
       "      <td>0</td>\n",
       "    </tr>\n",
       "    <tr>\n",
       "      <th>999998</th>\n",
       "      <td>post</td>\n",
       "      <td>30ek3q</td>\n",
       "      <td>2qh72</td>\n",
       "      <td>jokes</td>\n",
       "      <td>False</td>\n",
       "      <td>1427396721</td>\n",
       "      <td>https://old.reddit.com/r/Jokes/comments/30ek3q...</td>\n",
       "      <td>self.jokes</td>\n",
       "      <td>NaN</td>\n",
       "      <td>So a moth goes into a podiatrists office.\\n\\n\\...</td>\n",
       "      <td>The Moth Joke</td>\n",
       "      <td>87</td>\n",
       "    </tr>\n",
       "    <tr>\n",
       "      <th>999999</th>\n",
       "      <td>post</td>\n",
       "      <td>30ejwp</td>\n",
       "      <td>2qh72</td>\n",
       "      <td>jokes</td>\n",
       "      <td>False</td>\n",
       "      <td>1427396646</td>\n",
       "      <td>https://old.reddit.com/r/Jokes/comments/30ejwp...</td>\n",
       "      <td>self.jokes</td>\n",
       "      <td>NaN</td>\n",
       "      <td>[deleted]</td>\n",
       "      <td>Why did the pig go to the fridge?</td>\n",
       "      <td>2</td>\n",
       "    </tr>\n",
       "  </tbody>\n",
       "</table>\n",
       "<p>1000000 rows × 12 columns</p>\n",
       "</div>"
      ],
      "text/plain": [
       "        type      id subreddit.id subreddit.name  subreddit.nsfw  created_utc  \\\n",
       "0       post  ftbp1i        2qh72          jokes           False   1585785543   \n",
       "1       post  ftboup        2qh72          jokes           False   1585785522   \n",
       "2       post  ftbopj        2qh72          jokes           False   1585785508   \n",
       "3       post  ftbnxh        2qh72          jokes           False   1585785428   \n",
       "4       post  ftbjpg        2qh72          jokes           False   1585785009   \n",
       "...      ...     ...          ...            ...             ...          ...   \n",
       "999995  post  30ekhl        2qh72          jokes           False   1427396885   \n",
       "999996  post  30ekft        2qh72          jokes           False   1427396863   \n",
       "999997  post  30ek9i        2qh72          jokes           False   1427396794   \n",
       "999998  post  30ek3q        2qh72          jokes           False   1427396721   \n",
       "999999  post  30ejwp        2qh72          jokes           False   1427396646   \n",
       "\n",
       "                                                permalink      domain  url  \\\n",
       "0       https://old.reddit.com/r/Jokes/comments/ftbp1i...  self.jokes  NaN   \n",
       "1       https://old.reddit.com/r/Jokes/comments/ftboup...  self.jokes  NaN   \n",
       "2       https://old.reddit.com/r/Jokes/comments/ftbopj...  self.jokes  NaN   \n",
       "3       https://old.reddit.com/r/Jokes/comments/ftbnxh...  self.jokes  NaN   \n",
       "4       https://old.reddit.com/r/Jokes/comments/ftbjpg...  self.jokes  NaN   \n",
       "...                                                   ...         ...  ...   \n",
       "999995  https://old.reddit.com/r/Jokes/comments/30ekhl...  self.jokes  NaN   \n",
       "999996  https://old.reddit.com/r/Jokes/comments/30ekft...  self.jokes  NaN   \n",
       "999997  https://old.reddit.com/r/Jokes/comments/30ek9i...  self.jokes  NaN   \n",
       "999998  https://old.reddit.com/r/Jokes/comments/30ek3q...  self.jokes  NaN   \n",
       "999999  https://old.reddit.com/r/Jokes/comments/30ejwp...  self.jokes  NaN   \n",
       "\n",
       "                                                 selftext  \\\n",
       "0       My corona is covered with foreskin so it is no...   \n",
       "1                              It's called Google Sheets.   \n",
       "2       The vacuum doesn't snore after sex.\\n\\n&amp;#x...   \n",
       "3                                               [removed]   \n",
       "4                                               [removed]   \n",
       "...                                                   ...   \n",
       "999995  *zyan malik or whatever leaves 1d.  \\n*Kayne W...   \n",
       "999996                                          [deleted]   \n",
       "999997                                       I'll be Bach   \n",
       "999998  So a moth goes into a podiatrists office.\\n\\n\\...   \n",
       "999999                                          [deleted]   \n",
       "\n",
       "                                                    title  score  \n",
       "0                    I am soooo glad I'm not circumcised!      2  \n",
       "1       Did you know Google now has a platform for rec...      9  \n",
       "2       What is the difference between my wife and my ...     15  \n",
       "3                                   My last joke for now.      9  \n",
       "4                   The Nintendo 64 turns 18 this week...    134  \n",
       "...                                                   ...    ...  \n",
       "999995                       With Zyan Malik leaving 1D..      0  \n",
       "999996              Why did the exterminator go to Italy?      1  \n",
       "999997  What did Arnold Schwarzenegger say when invite...      0  \n",
       "999998                                      The Moth Joke     87  \n",
       "999999                  Why did the pig go to the fridge?      2  \n",
       "\n",
       "[1000000 rows x 12 columns]"
      ]
     },
     "execution_count": 3,
     "metadata": {},
     "output_type": "execute_result"
    }
   ],
   "source": [
    "data = pd.read_csv('~/Downloads/one-million-reddit-jokes.csv')\n",
    "data"
   ]
  },
  {
   "cell_type": "code",
   "execution_count": 5,
   "metadata": {},
   "outputs": [],
   "source": [
    "data = data[['selftext', 'title', 'score']]"
   ]
  },
  {
   "cell_type": "code",
   "execution_count": 8,
   "metadata": {},
   "outputs": [
    {
     "data": {
      "text/plain": [
       "selftext    4475\n",
       "title          0\n",
       "score          0\n",
       "dtype: int64"
      ]
     },
     "execution_count": 8,
     "metadata": {},
     "output_type": "execute_result"
    }
   ],
   "source": [
    "data.isna().sum()"
   ]
  },
  {
   "cell_type": "code",
   "execution_count": 9,
   "metadata": {},
   "outputs": [
    {
     "name": "stderr",
     "output_type": "stream",
     "text": [
      "/var/folders/2w/9zd5xr8x3qg27qldfljyr06r0000gn/T/ipykernel_79473/1368182302.py:1: SettingWithCopyWarning: \n",
      "A value is trying to be set on a copy of a slice from a DataFrame\n",
      "\n",
      "See the caveats in the documentation: https://pandas.pydata.org/pandas-docs/stable/user_guide/indexing.html#returning-a-view-versus-a-copy\n",
      "  data.dropna(inplace=True)\n"
     ]
    }
   ],
   "source": [
    "data.dropna(inplace=True)"
   ]
  },
  {
   "cell_type": "code",
   "execution_count": 10,
   "metadata": {},
   "outputs": [
    {
     "data": {
      "text/plain": [
       "selftext    0\n",
       "title       0\n",
       "score       0\n",
       "dtype: int64"
      ]
     },
     "execution_count": 10,
     "metadata": {},
     "output_type": "execute_result"
    }
   ],
   "source": [
    "data.isna().sum()"
   ]
  },
  {
   "cell_type": "code",
   "execution_count": 24,
   "metadata": {},
   "outputs": [
    {
     "data": {
      "text/html": [
       "<div>\n",
       "<style scoped>\n",
       "    .dataframe tbody tr th:only-of-type {\n",
       "        vertical-align: middle;\n",
       "    }\n",
       "\n",
       "    .dataframe tbody tr th {\n",
       "        vertical-align: top;\n",
       "    }\n",
       "\n",
       "    .dataframe thead th {\n",
       "        text-align: right;\n",
       "    }\n",
       "</style>\n",
       "<table border=\"1\" class=\"dataframe\">\n",
       "  <thead>\n",
       "    <tr style=\"text-align: right;\">\n",
       "      <th></th>\n",
       "      <th>selftext</th>\n",
       "      <th>title</th>\n",
       "      <th>score</th>\n",
       "    </tr>\n",
       "  </thead>\n",
       "  <tbody>\n",
       "    <tr>\n",
       "      <th>0</th>\n",
       "      <td>My corona is covered with foreskin so it is no...</td>\n",
       "      <td>I am soooo glad I'm not circumcised!</td>\n",
       "      <td>2</td>\n",
       "    </tr>\n",
       "    <tr>\n",
       "      <th>1</th>\n",
       "      <td>It's called Google Sheets.</td>\n",
       "      <td>Did you know Google now has a platform for rec...</td>\n",
       "      <td>9</td>\n",
       "    </tr>\n",
       "    <tr>\n",
       "      <th>2</th>\n",
       "      <td>The vacuum doesn't snore after sex.\\n\\n&amp;amp;#x...</td>\n",
       "      <td>What is the difference between my wife and my ...</td>\n",
       "      <td>15</td>\n",
       "    </tr>\n",
       "    <tr>\n",
       "      <th>3</th>\n",
       "      <td>[removed]</td>\n",
       "      <td>My last joke for now.</td>\n",
       "      <td>9</td>\n",
       "    </tr>\n",
       "    <tr>\n",
       "      <th>4</th>\n",
       "      <td>[removed]</td>\n",
       "      <td>The Nintendo 64 turns 18 this week...</td>\n",
       "      <td>134</td>\n",
       "    </tr>\n",
       "    <tr>\n",
       "      <th>5</th>\n",
       "      <td>[removed]</td>\n",
       "      <td>Sex with teacher.</td>\n",
       "      <td>1</td>\n",
       "    </tr>\n",
       "    <tr>\n",
       "      <th>6</th>\n",
       "      <td>[removed]</td>\n",
       "      <td>Another long one.</td>\n",
       "      <td>8</td>\n",
       "    </tr>\n",
       "    <tr>\n",
       "      <th>7</th>\n",
       "      <td>Oo..lala...</td>\n",
       "      <td>What did the French man say to the attractive ...</td>\n",
       "      <td>2</td>\n",
       "    </tr>\n",
       "    <tr>\n",
       "      <th>8</th>\n",
       "      <td>[removed]</td>\n",
       "      <td>A Priest takes a walk down to the docks one day</td>\n",
       "      <td>88</td>\n",
       "    </tr>\n",
       "    <tr>\n",
       "      <th>9</th>\n",
       "      <td>[removed]</td>\n",
       "      <td>A long joke.</td>\n",
       "      <td>4</td>\n",
       "    </tr>\n",
       "  </tbody>\n",
       "</table>\n",
       "</div>"
      ],
      "text/plain": [
       "                                            selftext  \\\n",
       "0  My corona is covered with foreskin so it is no...   \n",
       "1                         It's called Google Sheets.   \n",
       "2  The vacuum doesn't snore after sex.\\n\\n&amp;#x...   \n",
       "3                                          [removed]   \n",
       "4                                          [removed]   \n",
       "5                                          [removed]   \n",
       "6                                          [removed]   \n",
       "7                                        Oo..lala...   \n",
       "8                                          [removed]   \n",
       "9                                          [removed]   \n",
       "\n",
       "                                               title  score  \n",
       "0               I am soooo glad I'm not circumcised!      2  \n",
       "1  Did you know Google now has a platform for rec...      9  \n",
       "2  What is the difference between my wife and my ...     15  \n",
       "3                              My last joke for now.      9  \n",
       "4              The Nintendo 64 turns 18 this week...    134  \n",
       "5                                  Sex with teacher.      1  \n",
       "6                                  Another long one.      8  \n",
       "7  What did the French man say to the attractive ...      2  \n",
       "8    A Priest takes a walk down to the docks one day     88  \n",
       "9                                       A long joke.      4  "
      ]
     },
     "execution_count": 24,
     "metadata": {},
     "output_type": "execute_result"
    }
   ],
   "source": [
    "data.head(10)"
   ]
  },
  {
   "cell_type": "code",
   "execution_count": 31,
   "metadata": {},
   "outputs": [],
   "source": [
    "data = data[data.selftext.apply(lambda text: re.fullmatch(r'\\[(\\w)+\\]', text) is None)]"
   ]
  },
  {
   "cell_type": "code",
   "execution_count": 32,
   "metadata": {},
   "outputs": [],
   "source": [
    "data = data.sort_values('score', ascending=False, ignore_index=True)"
   ]
  },
  {
   "cell_type": "code",
   "execution_count": 33,
   "metadata": {},
   "outputs": [
    {
     "data": {
      "text/html": [
       "<div>\n",
       "<style scoped>\n",
       "    .dataframe tbody tr th:only-of-type {\n",
       "        vertical-align: middle;\n",
       "    }\n",
       "\n",
       "    .dataframe tbody tr th {\n",
       "        vertical-align: top;\n",
       "    }\n",
       "\n",
       "    .dataframe thead th {\n",
       "        text-align: right;\n",
       "    }\n",
       "</style>\n",
       "<table border=\"1\" class=\"dataframe\">\n",
       "  <thead>\n",
       "    <tr style=\"text-align: right;\">\n",
       "      <th></th>\n",
       "      <th>selftext</th>\n",
       "      <th>title</th>\n",
       "      <th>score</th>\n",
       "    </tr>\n",
       "  </thead>\n",
       "  <tbody>\n",
       "    <tr>\n",
       "      <th>0</th>\n",
       "      <td>RIP Larry Tesler, the UI designer that created...</td>\n",
       "      <td>Sad News: The founder of /r/jokes has passed away</td>\n",
       "      <td>142733</td>\n",
       "    </tr>\n",
       "    <tr>\n",
       "      <th>1</th>\n",
       "      <td>Paying additional money to access certain site...</td>\n",
       "      <td>Calm down about the Net Neutrality thing...</td>\n",
       "      <td>136359</td>\n",
       "    </tr>\n",
       "    <tr>\n",
       "      <th>2</th>\n",
       "      <td>V\\n\\n*Edit: seems like the ctrl key on my keyb...</td>\n",
       "      <td>V</td>\n",
       "      <td>106412</td>\n",
       "    </tr>\n",
       "    <tr>\n",
       "      <th>3</th>\n",
       "      <td>Imagine how surprised he must have been.\\n\\nEd...</td>\n",
       "      <td>If your surprised that Jeffrey Epstein commite...</td>\n",
       "      <td>103652</td>\n",
       "    </tr>\n",
       "    <tr>\n",
       "      <th>4</th>\n",
       "      <td>He speaks with the officer, who assigns him hi...</td>\n",
       "      <td>A new Navy recruit has his first day on the su...</td>\n",
       "      <td>98257</td>\n",
       "    </tr>\n",
       "    <tr>\n",
       "      <th>...</th>\n",
       "      <td>...</td>\n",
       "      <td>...</td>\n",
       "      <td>...</td>\n",
       "    </tr>\n",
       "    <tr>\n",
       "      <th>573986</th>\n",
       "      <td>He said \"You are what you eat!\"</td>\n",
       "      <td>I called Jeffrey Dahmer a faggot</td>\n",
       "      <td>0</td>\n",
       "    </tr>\n",
       "    <tr>\n",
       "      <th>573987</th>\n",
       "      <td>The Judicial Branch</td>\n",
       "      <td>What's hitler's least favorite branch of gover...</td>\n",
       "      <td>0</td>\n",
       "    </tr>\n",
       "    <tr>\n",
       "      <th>573988</th>\n",
       "      <td>There were too many sticks in my front yard, s...</td>\n",
       "      <td>There's a faggot in the trunk of my car.</td>\n",
       "      <td>0</td>\n",
       "    </tr>\n",
       "    <tr>\n",
       "      <th>573989</th>\n",
       "      <td>When she though it snowed.\\n\\n-No it is reindeer.</td>\n",
       "      <td>What did Santa Claus say to Mrs. Claus.</td>\n",
       "      <td>0</td>\n",
       "    </tr>\n",
       "    <tr>\n",
       "      <th>573990</th>\n",
       "      <td>Dat hindu dindu nuffin, baby wuz a gooood boi,...</td>\n",
       "      <td>What happened to the Hindu who shot a cop?</td>\n",
       "      <td>0</td>\n",
       "    </tr>\n",
       "  </tbody>\n",
       "</table>\n",
       "<p>573991 rows × 3 columns</p>\n",
       "</div>"
      ],
      "text/plain": [
       "                                                 selftext  \\\n",
       "0       RIP Larry Tesler, the UI designer that created...   \n",
       "1       Paying additional money to access certain site...   \n",
       "2       V\\n\\n*Edit: seems like the ctrl key on my keyb...   \n",
       "3       Imagine how surprised he must have been.\\n\\nEd...   \n",
       "4       He speaks with the officer, who assigns him hi...   \n",
       "...                                                   ...   \n",
       "573986                    He said \"You are what you eat!\"   \n",
       "573987                                The Judicial Branch   \n",
       "573988  There were too many sticks in my front yard, s...   \n",
       "573989  When she though it snowed.\\n\\n-No it is reindeer.   \n",
       "573990  Dat hindu dindu nuffin, baby wuz a gooood boi,...   \n",
       "\n",
       "                                                    title   score  \n",
       "0       Sad News: The founder of /r/jokes has passed away  142733  \n",
       "1             Calm down about the Net Neutrality thing...  136359  \n",
       "2                                                       V  106412  \n",
       "3       If your surprised that Jeffrey Epstein commite...  103652  \n",
       "4       A new Navy recruit has his first day on the su...   98257  \n",
       "...                                                   ...     ...  \n",
       "573986                   I called Jeffrey Dahmer a faggot       0  \n",
       "573987  What's hitler's least favorite branch of gover...       0  \n",
       "573988           There's a faggot in the trunk of my car.       0  \n",
       "573989            What did Santa Claus say to Mrs. Claus.       0  \n",
       "573990         What happened to the Hindu who shot a cop?       0  \n",
       "\n",
       "[573991 rows x 3 columns]"
      ]
     },
     "execution_count": 33,
     "metadata": {},
     "output_type": "execute_result"
    }
   ],
   "source": [
    "data"
   ]
  },
  {
   "cell_type": "code",
   "execution_count": 45,
   "metadata": {},
   "outputs": [
    {
     "name": "stdout",
     "output_type": "stream",
     "text": [
      "Defaulting to user installation because normal site-packages is not writeable\n",
      "Collecting swifter\n",
      "  Downloading swifter-1.1.3.tar.gz (647 kB)\n",
      "\u001b[2K     \u001b[90m━━━━━━━━━━━━━━━━━━━━━━━━━━━━━━━━━━━━━\u001b[0m \u001b[32m647.0/647.0 KB\u001b[0m \u001b[31m287.7 kB/s\u001b[0m eta \u001b[36m0:00:00\u001b[0m00:01\u001b[0m00:01\u001b[0m\n",
      "\u001b[?25h  Preparing metadata (setup.py) ... \u001b[?25ldone\n",
      "\u001b[?25hRequirement already satisfied: pandas>=1.0.0 in /Users/macbook/Library/Python/3.8/lib/python/site-packages (from swifter) (1.4.2)\n",
      "Requirement already satisfied: psutil>=5.6.6 in /Users/macbook/Library/Python/3.8/lib/python/site-packages (from swifter) (5.9.0)\n",
      "Collecting dask[dataframe]>=2.10.0\n",
      "  Downloading dask-2022.5.0-py3-none-any.whl (1.1 MB)\n",
      "\u001b[2K     \u001b[90m━━━━━━━━━━━━━━━━━━━━━━━━━━━━━━━━━━━━━━━━\u001b[0m \u001b[32m1.1/1.1 MB\u001b[0m \u001b[31m331.8 kB/s\u001b[0m eta \u001b[36m0:00:00\u001b[0m00:01\u001b[0m00:01\u001b[0m\n",
      "\u001b[?25hRequirement already satisfied: tqdm>=4.33.0 in /Users/macbook/Library/Python/3.8/lib/python/site-packages (from swifter) (4.64.0)\n",
      "Collecting ipywidgets>=7.0.0\n",
      "  Downloading ipywidgets-7.7.0-py2.py3-none-any.whl (123 kB)\n",
      "\u001b[2K     \u001b[90m━━━━━━━━━━━━━━━━━━━━━━━━━━━━━━━━━━━━━\u001b[0m \u001b[32m123.4/123.4 KB\u001b[0m \u001b[31m325.0 kB/s\u001b[0m eta \u001b[36m0:00:00\u001b[0ma \u001b[36m0:00:01\u001b[0m\n",
      "\u001b[?25hCollecting cloudpickle>=0.2.2\n",
      "  Downloading cloudpickle-2.0.0-py3-none-any.whl (25 kB)\n",
      "Requirement already satisfied: parso>0.4.0 in /Users/macbook/Library/Python/3.8/lib/python/site-packages (from swifter) (0.8.3)\n",
      "Collecting bleach>=3.1.1\n",
      "  Downloading bleach-5.0.0-py3-none-any.whl (160 kB)\n",
      "\u001b[2K     \u001b[90m━━━━━━━━━━━━━━━━━━━━━━━━━━━━━━━━━━━━━\u001b[0m \u001b[32m160.3/160.3 KB\u001b[0m \u001b[31m509.3 kB/s\u001b[0m eta \u001b[36m0:00:00\u001b[0ma \u001b[36m0:00:01\u001b[0m\n",
      "\u001b[?25hRequirement already satisfied: six>=1.9.0 in /Applications/Xcode.app/Contents/Developer/Library/Frameworks/Python3.framework/Versions/3.8/lib/python3.8/site-packages (from bleach>=3.1.1->swifter) (1.15.0)\n",
      "Collecting webencodings\n",
      "  Using cached webencodings-0.5.1-py2.py3-none-any.whl (11 kB)\n",
      "Collecting pyyaml>=5.3.1\n",
      "  Downloading PyYAML-6.0-cp38-cp38-macosx_10_9_x86_64.whl (192 kB)\n",
      "\u001b[2K     \u001b[90m━━━━━━━━━━━━━━━━━━━━━━━━━━━━━━━━━━━━━\u001b[0m \u001b[32m192.2/192.2 KB\u001b[0m \u001b[31m477.0 kB/s\u001b[0m eta \u001b[36m0:00:00\u001b[0ma \u001b[36m0:00:01\u001b[0m\n",
      "\u001b[?25hCollecting fsspec>=0.6.0\n",
      "  Downloading fsspec-2022.3.0-py3-none-any.whl (136 kB)\n",
      "\u001b[2K     \u001b[90m━━━━━━━━━━━━━━━━━━━━━━━━━━━━━━━━━━━━━\u001b[0m \u001b[32m136.1/136.1 KB\u001b[0m \u001b[31m281.8 kB/s\u001b[0m eta \u001b[36m0:00:00\u001b[0ma \u001b[36m0:00:01\u001b[0m\n",
      "\u001b[?25hCollecting toolz>=0.8.2\n",
      "  Downloading toolz-0.11.2-py3-none-any.whl (55 kB)\n",
      "\u001b[2K     \u001b[90m━━━━━━━━━━━━━━━━━━━━━━━━━━━━━━━━━━━━━━━\u001b[0m \u001b[32m55.8/55.8 KB\u001b[0m \u001b[31m153.4 kB/s\u001b[0m eta \u001b[36m0:00:00\u001b[0ma \u001b[36m0:00:01\u001b[0m\n",
      "\u001b[?25hCollecting partd>=0.3.10\n",
      "  Downloading partd-1.2.0-py3-none-any.whl (19 kB)\n",
      "Requirement already satisfied: packaging>=20.0 in /Users/macbook/Library/Python/3.8/lib/python/site-packages (from dask[dataframe]>=2.10.0->swifter) (21.3)\n",
      "Requirement already satisfied: numpy>=1.18 in /Users/macbook/Library/Python/3.8/lib/python/site-packages (from dask[dataframe]>=2.10.0->swifter) (1.22.3)\n",
      "Requirement already satisfied: traitlets>=4.3.1 in /Users/macbook/Library/Python/3.8/lib/python/site-packages (from ipywidgets>=7.0.0->swifter) (5.1.1)\n",
      "Collecting jupyterlab-widgets>=1.0.0\n",
      "  Downloading jupyterlab_widgets-1.1.0-py3-none-any.whl (245 kB)\n",
      "\u001b[2K     \u001b[90m━━━━━━━━━━━━━━━━━━━━━━━━━━━━━━━━━━━━━\u001b[0m \u001b[32m245.1/245.1 KB\u001b[0m \u001b[31m200.4 kB/s\u001b[0m eta \u001b[36m0:00:00\u001b[0ma \u001b[36m0:00:01\u001b[0m\n",
      "\u001b[?25hCollecting ipython-genutils~=0.2.0\n",
      "  Using cached ipython_genutils-0.2.0-py2.py3-none-any.whl (26 kB)\n",
      "Collecting nbformat>=4.2.0\n",
      "  Downloading nbformat-5.4.0-py3-none-any.whl (73 kB)\n",
      "\u001b[2K     \u001b[90m━━━━━━━━━━━━━━━━━━━━━━━━━━━━━━━━━━━━━━━\u001b[0m \u001b[32m73.3/73.3 KB\u001b[0m \u001b[31m251.0 kB/s\u001b[0m eta \u001b[36m0:00:00\u001b[0m00:01\u001b[0m00:01\u001b[0m\n",
      "\u001b[?25hRequirement already satisfied: ipython>=4.0.0 in /Users/macbook/Library/Python/3.8/lib/python/site-packages (from ipywidgets>=7.0.0->swifter) (8.2.0)\n",
      "Requirement already satisfied: ipykernel>=4.5.1 in /Users/macbook/Library/Python/3.8/lib/python/site-packages (from ipywidgets>=7.0.0->swifter) (6.13.0)\n",
      "Collecting widgetsnbextension~=3.6.0\n",
      "  Downloading widgetsnbextension-3.6.0-py2.py3-none-any.whl (1.6 MB)\n",
      "\u001b[2K     \u001b[90m━━━━━━━━━━━━━━━━━━━━━━━━━━━━━━━━━━━━━━━━\u001b[0m \u001b[32m1.6/1.6 MB\u001b[0m \u001b[31m421.2 kB/s\u001b[0m eta \u001b[36m0:00:00\u001b[0m00:01\u001b[0m00:01\u001b[0m\n",
      "\u001b[?25hRequirement already satisfied: python-dateutil>=2.8.1 in /Users/macbook/Library/Python/3.8/lib/python/site-packages (from pandas>=1.0.0->swifter) (2.8.2)\n",
      "Requirement already satisfied: pytz>=2020.1 in /Users/macbook/Library/Python/3.8/lib/python/site-packages (from pandas>=1.0.0->swifter) (2022.1)\n",
      "Requirement already satisfied: tornado>=6.1 in /Users/macbook/Library/Python/3.8/lib/python/site-packages (from ipykernel>=4.5.1->ipywidgets>=7.0.0->swifter) (6.1)\n",
      "Requirement already satisfied: matplotlib-inline>=0.1 in /Users/macbook/Library/Python/3.8/lib/python/site-packages (from ipykernel>=4.5.1->ipywidgets>=7.0.0->swifter) (0.1.3)\n",
      "Requirement already satisfied: jupyter-client>=6.1.12 in /Users/macbook/Library/Python/3.8/lib/python/site-packages (from ipykernel>=4.5.1->ipywidgets>=7.0.0->swifter) (7.3.0)\n",
      "Requirement already satisfied: nest-asyncio in /Users/macbook/Library/Python/3.8/lib/python/site-packages (from ipykernel>=4.5.1->ipywidgets>=7.0.0->swifter) (1.5.5)\n",
      "Requirement already satisfied: debugpy>=1.0 in /Users/macbook/Library/Python/3.8/lib/python/site-packages (from ipykernel>=4.5.1->ipywidgets>=7.0.0->swifter) (1.6.0)\n",
      "Requirement already satisfied: appnope in /Users/macbook/Library/Python/3.8/lib/python/site-packages (from ipykernel>=4.5.1->ipywidgets>=7.0.0->swifter) (0.1.3)\n",
      "Requirement already satisfied: prompt-toolkit!=3.0.0,!=3.0.1,<3.1.0,>=2.0.0 in /Users/macbook/Library/Python/3.8/lib/python/site-packages (from ipython>=4.0.0->ipywidgets>=7.0.0->swifter) (3.0.29)\n",
      "Requirement already satisfied: pygments>=2.4.0 in /Users/macbook/Library/Python/3.8/lib/python/site-packages (from ipython>=4.0.0->ipywidgets>=7.0.0->swifter) (2.12.0)\n",
      "Requirement already satisfied: jedi>=0.16 in /Users/macbook/Library/Python/3.8/lib/python/site-packages (from ipython>=4.0.0->ipywidgets>=7.0.0->swifter) (0.18.1)\n",
      "Requirement already satisfied: pickleshare in /Users/macbook/Library/Python/3.8/lib/python/site-packages (from ipython>=4.0.0->ipywidgets>=7.0.0->swifter) (0.7.5)\n",
      "Requirement already satisfied: setuptools>=18.5 in /Applications/Xcode.app/Contents/Developer/Library/Frameworks/Python3.framework/Versions/3.8/lib/python3.8/site-packages (from ipython>=4.0.0->ipywidgets>=7.0.0->swifter) (49.2.1)\n",
      "Requirement already satisfied: pexpect>4.3 in /Users/macbook/Library/Python/3.8/lib/python/site-packages (from ipython>=4.0.0->ipywidgets>=7.0.0->swifter) (4.8.0)\n",
      "Requirement already satisfied: backcall in /Users/macbook/Library/Python/3.8/lib/python/site-packages (from ipython>=4.0.0->ipywidgets>=7.0.0->swifter) (0.2.0)\n",
      "Requirement already satisfied: decorator in /Users/macbook/Library/Python/3.8/lib/python/site-packages (from ipython>=4.0.0->ipywidgets>=7.0.0->swifter) (5.1.1)\n",
      "Requirement already satisfied: stack-data in /Users/macbook/Library/Python/3.8/lib/python/site-packages (from ipython>=4.0.0->ipywidgets>=7.0.0->swifter) (0.2.0)\n",
      "Collecting jsonschema>=2.6\n",
      "  Downloading jsonschema-4.4.0-py3-none-any.whl (72 kB)\n",
      "\u001b[2K     \u001b[90m━━━━━━━━━━━━━━━━━━━━━━━━━━━━━━━━━━━━━━━\u001b[0m \u001b[32m72.7/72.7 KB\u001b[0m \u001b[31m325.7 kB/s\u001b[0m eta \u001b[36m0:00:00\u001b[0ma \u001b[36m0:00:01\u001b[0m\n",
      "\u001b[?25hCollecting fastjsonschema\n",
      "  Downloading fastjsonschema-2.15.3-py3-none-any.whl (22 kB)\n",
      "Requirement already satisfied: jupyter-core in /Users/macbook/Library/Python/3.8/lib/python/site-packages (from nbformat>=4.2.0->ipywidgets>=7.0.0->swifter) (4.10.0)\n",
      "Requirement already satisfied: pyparsing!=3.0.5,>=2.0.2 in /Users/macbook/Library/Python/3.8/lib/python/site-packages (from packaging>=20.0->dask[dataframe]>=2.10.0->swifter) (3.0.8)\n",
      "Collecting locket\n",
      "  Downloading locket-1.0.0-py2.py3-none-any.whl (4.4 kB)\n",
      "Collecting notebook>=4.4.1\n",
      "  Downloading notebook-6.4.11-py3-none-any.whl (9.9 MB)\n",
      "\u001b[2K     \u001b[90m━━━━━━━━━━━━━━━━━━━━━━━━━━━━━━━━━━━━━━━━\u001b[0m \u001b[32m9.9/9.9 MB\u001b[0m \u001b[31m319.3 kB/s\u001b[0m eta \u001b[36m0:00:00\u001b[0m00:01\u001b[0m00:01\u001b[0m\n",
      "\u001b[?25hCollecting importlib-resources>=1.4.0\n",
      "  Downloading importlib_resources-5.7.1-py3-none-any.whl (28 kB)\n",
      "Collecting pyrsistent!=0.17.0,!=0.17.1,!=0.17.2,>=0.14.0\n",
      "  Downloading pyrsistent-0.18.1-cp38-cp38-macosx_10_9_universal2.whl (81 kB)\n",
      "\u001b[2K     \u001b[90m━━━━━━━━━━━━━━━━━━━━━━━━━━━━━━━━━━━━━━━━\u001b[0m \u001b[32m81.4/81.4 KB\u001b[0m \u001b[31m97.6 kB/s\u001b[0m eta \u001b[36m0:00:00\u001b[0ma \u001b[36m0:00:01\u001b[0m\n",
      "\u001b[?25hCollecting attrs>=17.4.0\n",
      "  Downloading attrs-21.4.0-py2.py3-none-any.whl (60 kB)\n",
      "\u001b[2K     \u001b[90m━━━━━━━━━━━━━━━━━━━━━━━━━━━━━━━━━━━━━━━\u001b[0m \u001b[32m60.6/60.6 KB\u001b[0m \u001b[31m125.2 kB/s\u001b[0m eta \u001b[36m0:00:00\u001b[0ma \u001b[36m0:00:01\u001b[0m\n",
      "\u001b[?25hRequirement already satisfied: pyzmq>=22.3 in /Users/macbook/Library/Python/3.8/lib/python/site-packages (from jupyter-client>=6.1.12->ipykernel>=4.5.1->ipywidgets>=7.0.0->swifter) (22.3.0)\n",
      "Requirement already satisfied: entrypoints in /Users/macbook/Library/Python/3.8/lib/python/site-packages (from jupyter-client>=6.1.12->ipykernel>=4.5.1->ipywidgets>=7.0.0->swifter) (0.4)\n",
      "Collecting argon2-cffi\n",
      "  Downloading argon2_cffi-21.3.0-py3-none-any.whl (14 kB)\n",
      "Requirement already satisfied: jinja2 in /Users/macbook/Library/Python/3.8/lib/python/site-packages (from notebook>=4.4.1->widgetsnbextension~=3.6.0->ipywidgets>=7.0.0->swifter) (3.1.1)\n",
      "Collecting nbconvert>=5\n",
      "  Downloading nbconvert-6.5.0-py3-none-any.whl (561 kB)\n",
      "\u001b[2K     \u001b[90m━━━━━━━━━━━━━━━━━━━━━━━━━━━━━━━━━━━━━\u001b[0m \u001b[32m561.6/561.6 KB\u001b[0m \u001b[31m254.7 kB/s\u001b[0m eta \u001b[36m0:00:00\u001b[0m00:01\u001b[0m00:01\u001b[0m\n",
      "\u001b[?25hCollecting Send2Trash>=1.8.0\n",
      "  Downloading Send2Trash-1.8.0-py3-none-any.whl (18 kB)\n",
      "Collecting terminado>=0.8.3\n",
      "  Downloading terminado-0.13.3-py3-none-any.whl (14 kB)\n",
      "Collecting prometheus-client\n",
      "  Downloading prometheus_client-0.14.1-py3-none-any.whl (59 kB)\n",
      "\u001b[2K     \u001b[90m━━━━━━━━━━━━━━━━━━━━━━━━━━━━━━━━━━━━━━━\u001b[0m \u001b[32m59.5/59.5 KB\u001b[0m \u001b[31m234.0 kB/s\u001b[0m eta \u001b[36m0:00:00\u001b[0ma \u001b[36m0:00:01\u001b[0m\n",
      "\u001b[?25hRequirement already satisfied: ptyprocess>=0.5 in /Users/macbook/Library/Python/3.8/lib/python/site-packages (from pexpect>4.3->ipython>=4.0.0->ipywidgets>=7.0.0->swifter) (0.7.0)\n",
      "Requirement already satisfied: wcwidth in /Users/macbook/Library/Python/3.8/lib/python/site-packages (from prompt-toolkit!=3.0.0,!=3.0.1,<3.1.0,>=2.0.0->ipython>=4.0.0->ipywidgets>=7.0.0->swifter) (0.2.5)\n",
      "Requirement already satisfied: executing in /Users/macbook/Library/Python/3.8/lib/python/site-packages (from stack-data->ipython>=4.0.0->ipywidgets>=7.0.0->swifter) (0.8.3)\n",
      "Requirement already satisfied: pure-eval in /Users/macbook/Library/Python/3.8/lib/python/site-packages (from stack-data->ipython>=4.0.0->ipywidgets>=7.0.0->swifter) (0.2.2)\n",
      "Requirement already satisfied: asttokens in /Users/macbook/Library/Python/3.8/lib/python/site-packages (from stack-data->ipython>=4.0.0->ipywidgets>=7.0.0->swifter) (2.0.5)\n",
      "Collecting zipp>=3.1.0\n",
      "  Downloading zipp-3.8.0-py3-none-any.whl (5.4 kB)\n",
      "Collecting jupyterlab-pygments\n",
      "  Downloading jupyterlab_pygments-0.2.2-py2.py3-none-any.whl (21 kB)\n",
      "Collecting tinycss2\n",
      "  Downloading tinycss2-1.1.1-py3-none-any.whl (21 kB)\n",
      "Collecting beautifulsoup4\n",
      "  Downloading beautifulsoup4-4.11.1-py3-none-any.whl (128 kB)\n",
      "\u001b[2K     \u001b[90m━━━━━━━━━━━━━━━━━━━━━━━━━━━━━━━━━━━━━\u001b[0m \u001b[32m128.2/128.2 KB\u001b[0m \u001b[31m246.7 kB/s\u001b[0m eta \u001b[36m0:00:00\u001b[0ma \u001b[36m0:00:01\u001b[0m\n",
      "\u001b[?25hCollecting defusedxml\n",
      "  Downloading defusedxml-0.7.1-py2.py3-none-any.whl (25 kB)\n",
      "Collecting mistune<2,>=0.8.1\n",
      "  Using cached mistune-0.8.4-py2.py3-none-any.whl (16 kB)\n",
      "Requirement already satisfied: MarkupSafe>=2.0 in /Users/macbook/Library/Python/3.8/lib/python/site-packages (from nbconvert>=5->notebook>=4.4.1->widgetsnbextension~=3.6.0->ipywidgets>=7.0.0->swifter) (2.1.1)\n",
      "Collecting nbclient>=0.5.0\n",
      "  Downloading nbclient-0.6.2-py3-none-any.whl (71 kB)\n",
      "\u001b[2K     \u001b[90m━━━━━━━━━━━━━━━━━━━━━━━━━━━━━━━━━━━━━━━\u001b[0m \u001b[32m71.4/71.4 KB\u001b[0m \u001b[31m362.4 kB/s\u001b[0m eta \u001b[36m0:00:00\u001b[0ma \u001b[36m0:00:01\u001b[0m\n",
      "\u001b[?25hCollecting pandocfilters>=1.4.1\n",
      "  Downloading pandocfilters-1.5.0-py2.py3-none-any.whl (8.7 kB)\n",
      "Collecting argon2-cffi-bindings\n",
      "  Downloading argon2_cffi_bindings-21.2.0-cp38-abi3-macosx_10_9_universal2.whl (53 kB)\n",
      "\u001b[2K     \u001b[90m━━━━━━━━━━━━━━━━━━━━━━━━━━━━━━━━━━━━━━━\u001b[0m \u001b[32m53.1/53.1 KB\u001b[0m \u001b[31m445.7 kB/s\u001b[0m eta \u001b[36m0:00:00\u001b[0ma \u001b[36m0:00:01\u001b[0m\n",
      "\u001b[?25hCollecting cffi>=1.0.1\n",
      "  Downloading cffi-1.15.0-cp38-cp38-macosx_10_9_x86_64.whl (178 kB)\n",
      "\u001b[2K     \u001b[90m━━━━━━━━━━━━━━━━━━━━━━━━━━━━━━━━━━━━━\u001b[0m \u001b[32m178.7/178.7 KB\u001b[0m \u001b[31m266.7 kB/s\u001b[0m eta \u001b[36m0:00:00\u001b[0ma \u001b[36m0:00:01\u001b[0m\n",
      "\u001b[?25hCollecting soupsieve>1.2\n",
      "  Downloading soupsieve-2.3.2.post1-py3-none-any.whl (37 kB)\n",
      "Collecting pycparser\n",
      "  Downloading pycparser-2.21-py2.py3-none-any.whl (118 kB)\n",
      "\u001b[2K     \u001b[90m━━━━━━━━━━━━━━━━━━━━━━━━━━━━━━━━━━━━━\u001b[0m \u001b[32m118.7/118.7 KB\u001b[0m \u001b[31m158.7 kB/s\u001b[0m eta \u001b[36m0:00:00\u001b[0ma \u001b[36m0:00:01\u001b[0m\n",
      "\u001b[?25hBuilding wheels for collected packages: swifter\n",
      "  Building wheel for swifter (setup.py) ... \u001b[?25ldone\n",
      "\u001b[?25h  Created wheel for swifter: filename=swifter-1.1.3-py3-none-any.whl size=13063 sha256=0603196bb30098cb0c081aec57be42beafcf132490c43f7dcaa90acc486b649b\n",
      "  Stored in directory: /Users/macbook/Library/Caches/pip/wheels/eb/11/ab/0b6c21c1ae17d57b6005df3f022fb7a6ce3c769cdaeb35f258\n",
      "Successfully built swifter\n",
      "Installing collected packages: webencodings, Send2Trash, mistune, ipython-genutils, fastjsonschema, zipp, toolz, tinycss2, terminado, soupsieve, pyyaml, pyrsistent, pycparser, prometheus-client, pandocfilters, locket, jupyterlab-widgets, jupyterlab-pygments, fsspec, defusedxml, cloudpickle, bleach, attrs, partd, importlib-resources, cffi, beautifulsoup4, jsonschema, dask, argon2-cffi-bindings, nbformat, argon2-cffi, nbclient, nbconvert, notebook, widgetsnbextension, ipywidgets, swifter\n",
      "\u001b[33m  WARNING: The script send2trash is installed in '/Users/macbook/Library/Python/3.8/bin' which is not on PATH.\n",
      "  Consider adding this directory to PATH or, if you prefer to suppress this warning, use --no-warn-script-location.\n",
      "  NOTE: The current PATH contains path(s) starting with `~`, which may not be expanded by all applications.\u001b[0m\u001b[33m\n",
      "\u001b[0m\u001b[33m  WARNING: The script jsonschema is installed in '/Users/macbook/Library/Python/3.8/bin' which is not on PATH.\n",
      "  Consider adding this directory to PATH or, if you prefer to suppress this warning, use --no-warn-script-location.\n",
      "  NOTE: The current PATH contains path(s) starting with `~`, which may not be expanded by all applications.\u001b[0m\u001b[33m\n",
      "\u001b[0m\u001b[33m  WARNING: The script jupyter-trust is installed in '/Users/macbook/Library/Python/3.8/bin' which is not on PATH.\n",
      "  Consider adding this directory to PATH or, if you prefer to suppress this warning, use --no-warn-script-location.\n",
      "  NOTE: The current PATH contains path(s) starting with `~`, which may not be expanded by all applications.\u001b[0m\u001b[33m\n",
      "\u001b[0m\u001b[33m  WARNING: The script jupyter-execute is installed in '/Users/macbook/Library/Python/3.8/bin' which is not on PATH.\n",
      "  Consider adding this directory to PATH or, if you prefer to suppress this warning, use --no-warn-script-location.\n",
      "  NOTE: The current PATH contains path(s) starting with `~`, which may not be expanded by all applications.\u001b[0m\u001b[33m\n",
      "\u001b[0m\u001b[33m  WARNING: The scripts jupyter-dejavu and jupyter-nbconvert are installed in '/Users/macbook/Library/Python/3.8/bin' which is not on PATH.\n",
      "  Consider adding this directory to PATH or, if you prefer to suppress this warning, use --no-warn-script-location.\n",
      "  NOTE: The current PATH contains path(s) starting with `~`, which may not be expanded by all applications.\u001b[0m\u001b[33m\n",
      "\u001b[0m\u001b[33m  WARNING: The scripts jupyter-bundlerextension, jupyter-nbextension, jupyter-notebook and jupyter-serverextension are installed in '/Users/macbook/Library/Python/3.8/bin' which is not on PATH.\n",
      "  Consider adding this directory to PATH or, if you prefer to suppress this warning, use --no-warn-script-location.\n",
      "  NOTE: The current PATH contains path(s) starting with `~`, which may not be expanded by all applications.\u001b[0m\u001b[33m\n",
      "\u001b[0mSuccessfully installed Send2Trash-1.8.0 argon2-cffi-21.3.0 argon2-cffi-bindings-21.2.0 attrs-21.4.0 beautifulsoup4-4.11.1 bleach-5.0.0 cffi-1.15.0 cloudpickle-2.0.0 dask-2022.5.0 defusedxml-0.7.1 fastjsonschema-2.15.3 fsspec-2022.3.0 importlib-resources-5.7.1 ipython-genutils-0.2.0 ipywidgets-7.7.0 jsonschema-4.4.0 jupyterlab-pygments-0.2.2 jupyterlab-widgets-1.1.0 locket-1.0.0 mistune-0.8.4 nbclient-0.6.2 nbconvert-6.5.0 nbformat-5.4.0 notebook-6.4.11 pandocfilters-1.5.0 partd-1.2.0 prometheus-client-0.14.1 pycparser-2.21 pyrsistent-0.18.1 pyyaml-6.0 soupsieve-2.3.2.post1 swifter-1.1.3 terminado-0.13.3 tinycss2-1.1.1 toolz-0.11.2 webencodings-0.5.1 widgetsnbextension-3.6.0 zipp-3.8.0\n"
     ]
    }
   ],
   "source": [
    "!pip3 install swifter"
   ]
  },
  {
   "cell_type": "code",
   "execution_count": 58,
   "metadata": {},
   "outputs": [
    {
     "data": {
      "application/vnd.jupyter.widget-view+json": {
       "model_id": "31b15cf03575400caae9a45f4102b1f2",
       "version_major": 2,
       "version_minor": 0
      },
      "text/plain": [
       "Pandas Apply:   0%|          | 0/573991 [00:00<?, ?it/s]"
      ]
     },
     "metadata": {},
     "output_type": "display_data"
    }
   ],
   "source": [
    "import swifter\n",
    "\n",
    "data['prep_selftext'] = data.selftext.swifter.apply(lambda text: re.sub(r'[^\\w\\s]', ' ', text))"
   ]
  },
  {
   "cell_type": "code",
   "execution_count": 59,
   "metadata": {},
   "outputs": [
    {
     "data": {
      "application/vnd.jupyter.widget-view+json": {
       "model_id": "4b2028a8e99d438c9d8b4b91e6ba3c30",
       "version_major": 2,
       "version_minor": 0
      },
      "text/plain": [
       "Pandas Apply:   0%|          | 0/573991 [00:00<?, ?it/s]"
      ]
     },
     "metadata": {},
     "output_type": "display_data"
    }
   ],
   "source": [
    "data['prep_title'] = data.title.swifter.apply(lambda text: re.sub(r'[^\\w\\s]', ' ', text))"
   ]
  },
  {
   "cell_type": "code",
   "execution_count": 60,
   "metadata": {},
   "outputs": [
    {
     "data": {
      "application/vnd.jupyter.widget-view+json": {
       "model_id": "d0637c6b7c024b2283dc4b04017e68e0",
       "version_major": 2,
       "version_minor": 0
      },
      "text/plain": [
       "Pandas Apply:   0%|          | 0/573991 [00:00<?, ?it/s]"
      ]
     },
     "metadata": {},
     "output_type": "display_data"
    }
   ],
   "source": [
    "data['prep_selftext'] = data.prep_selftext.swifter.apply(lambda text: text.lower())"
   ]
  },
  {
   "cell_type": "code",
   "execution_count": 61,
   "metadata": {},
   "outputs": [
    {
     "data": {
      "application/vnd.jupyter.widget-view+json": {
       "model_id": "9e5e2a1d4ebe4820b2d52fe8d665cbc8",
       "version_major": 2,
       "version_minor": 0
      },
      "text/plain": [
       "Pandas Apply:   0%|          | 0/573991 [00:00<?, ?it/s]"
      ]
     },
     "metadata": {},
     "output_type": "display_data"
    }
   ],
   "source": [
    "data['prep_title'] = data.prep_title.swifter.apply(lambda text: text.lower())"
   ]
  },
  {
   "cell_type": "code",
   "execution_count": 52,
   "metadata": {},
   "outputs": [
    {
     "name": "stdout",
     "output_type": "stream",
     "text": [
      "Defaulting to user installation because normal site-packages is not writeable\n",
      "Collecting nltk\n",
      "  Downloading nltk-3.7-py3-none-any.whl (1.5 MB)\n",
      "\u001b[2K     \u001b[90m━━━━━━━━━━━━━━━━━━━━━━━━━━━━━━━━━━━━━━━━\u001b[0m \u001b[32m1.5/1.5 MB\u001b[0m \u001b[31m1.1 MB/s\u001b[0m eta \u001b[36m0:00:00\u001b[0ma \u001b[36m0:00:01\u001b[0m0m\n",
      "\u001b[?25hRequirement already satisfied: click in /Users/macbook/Library/Python/3.8/lib/python/site-packages (from nltk) (8.0.4)\n",
      "Collecting joblib\n",
      "  Downloading joblib-1.1.0-py2.py3-none-any.whl (306 kB)\n",
      "\u001b[2K     \u001b[90m━━━━━━━━━━━━━━━━━━━━━━━━━━━━━━━━━━━━━\u001b[0m \u001b[32m307.0/307.0 KB\u001b[0m \u001b[31m866.6 kB/s\u001b[0m eta \u001b[36m0:00:00\u001b[0ma \u001b[36m0:00:01\u001b[0m\n",
      "\u001b[?25hRequirement already satisfied: tqdm in /Users/macbook/Library/Python/3.8/lib/python/site-packages (from nltk) (4.64.0)\n",
      "Collecting regex>=2021.8.3\n",
      "  Downloading regex-2022.4.24-cp38-cp38-macosx_10_9_x86_64.whl (289 kB)\n",
      "\u001b[2K     \u001b[90m━━━━━━━━━━━━━━━━━━━━━━━━━━━━━━━━━━━━━━━\u001b[0m \u001b[32m289.1/289.1 KB\u001b[0m \u001b[31m1.1 MB/s\u001b[0m eta \u001b[36m0:00:00\u001b[0m00:01\u001b[0m00:01\u001b[0m\n",
      "\u001b[?25hInstalling collected packages: regex, joblib, nltk\n",
      "\u001b[33m  WARNING: The script nltk is installed in '/Users/macbook/Library/Python/3.8/bin' which is not on PATH.\n",
      "  Consider adding this directory to PATH or, if you prefer to suppress this warning, use --no-warn-script-location.\n",
      "  NOTE: The current PATH contains path(s) starting with `~`, which may not be expanded by all applications.\u001b[0m\u001b[33m\n",
      "\u001b[0mSuccessfully installed joblib-1.1.0 nltk-3.7 regex-2022.4.24\n"
     ]
    }
   ],
   "source": [
    "!pip3 install nltk"
   ]
  },
  {
   "cell_type": "code",
   "execution_count": 53,
   "metadata": {},
   "outputs": [
    {
     "name": "stderr",
     "output_type": "stream",
     "text": [
      "[nltk_data] Downloading package stopwords to\n",
      "[nltk_data]     /Users/macbook/nltk_data...\n",
      "[nltk_data]   Unzipping corpora/stopwords.zip.\n"
     ]
    },
    {
     "data": {
      "text/plain": [
       "True"
      ]
     },
     "execution_count": 53,
     "metadata": {},
     "output_type": "execute_result"
    }
   ],
   "source": [
    "import nltk\n",
    "nltk.download('stopwords')"
   ]
  },
  {
   "cell_type": "code",
   "execution_count": 55,
   "metadata": {},
   "outputs": [],
   "source": [
    "from nltk.corpus import stopwords\n",
    "sw_eng = set(stopwords.words('english'))"
   ]
  },
  {
   "cell_type": "code",
   "execution_count": 62,
   "metadata": {},
   "outputs": [
    {
     "data": {
      "application/vnd.jupyter.widget-view+json": {
       "model_id": "199ea6b29b63489d872c89704b58cc4c",
       "version_major": 2,
       "version_minor": 0
      },
      "text/plain": [
       "Pandas Apply:   0%|          | 0/573991 [00:00<?, ?it/s]"
      ]
     },
     "metadata": {},
     "output_type": "display_data"
    }
   ],
   "source": [
    "data['prep_selftext'] = data.prep_selftext.swifter.apply(\n",
    "    lambda x: ' '.join([word for word in re.split(r'(\\s)+', x) if not word in sw_eng])\n",
    ")"
   ]
  },
  {
   "cell_type": "code",
   "execution_count": 63,
   "metadata": {},
   "outputs": [
    {
     "data": {
      "application/vnd.jupyter.widget-view+json": {
       "model_id": "a83dadd699f84d40a86905fbc04e3745",
       "version_major": 2,
       "version_minor": 0
      },
      "text/plain": [
       "Pandas Apply:   0%|          | 0/573991 [00:00<?, ?it/s]"
      ]
     },
     "metadata": {},
     "output_type": "display_data"
    }
   ],
   "source": [
    "data['prep_title'] = data.prep_title.swifter.apply(\n",
    "    lambda x: ' '.join([word for word in re.split(r'(\\s)+', x) if not word in sw_eng])\n",
    ")"
   ]
  },
  {
   "cell_type": "code",
   "execution_count": 64,
   "metadata": {},
   "outputs": [
    {
     "data": {
      "text/html": [
       "<div>\n",
       "<style scoped>\n",
       "    .dataframe tbody tr th:only-of-type {\n",
       "        vertical-align: middle;\n",
       "    }\n",
       "\n",
       "    .dataframe tbody tr th {\n",
       "        vertical-align: top;\n",
       "    }\n",
       "\n",
       "    .dataframe thead th {\n",
       "        text-align: right;\n",
       "    }\n",
       "</style>\n",
       "<table border=\"1\" class=\"dataframe\">\n",
       "  <thead>\n",
       "    <tr style=\"text-align: right;\">\n",
       "      <th></th>\n",
       "      <th>selftext</th>\n",
       "      <th>title</th>\n",
       "      <th>score</th>\n",
       "      <th>prep_selftext</th>\n",
       "      <th>prep_title</th>\n",
       "    </tr>\n",
       "  </thead>\n",
       "  <tbody>\n",
       "    <tr>\n",
       "      <th>0</th>\n",
       "      <td>RIP Larry Tesler, the UI designer that created...</td>\n",
       "      <td>Sad News: The founder of /r/jokes has passed away</td>\n",
       "      <td>142733</td>\n",
       "      <td>rip   larry   tesler     ui   designer     cre...</td>\n",
       "      <td>sad   news     founder     r   jokes     passe...</td>\n",
       "    </tr>\n",
       "    <tr>\n",
       "      <th>1</th>\n",
       "      <td>Paying additional money to access certain site...</td>\n",
       "      <td>Calm down about the Net Neutrality thing...</td>\n",
       "      <td>136359</td>\n",
       "      <td>paying   additional   money     access   certa...</td>\n",
       "      <td>calm         net   neutrality   thing</td>\n",
       "    </tr>\n",
       "    <tr>\n",
       "      <th>2</th>\n",
       "      <td>V\\n\\n*Edit: seems like the ctrl key on my keyb...</td>\n",
       "      <td>V</td>\n",
       "      <td>106412</td>\n",
       "      <td>v   edit   seems   like     ctrl   key       k...</td>\n",
       "      <td>v</td>\n",
       "    </tr>\n",
       "    <tr>\n",
       "      <th>3</th>\n",
       "      <td>Imagine how surprised he must have been.\\n\\nEd...</td>\n",
       "      <td>If your surprised that Jeffrey Epstein commite...</td>\n",
       "      <td>103652</td>\n",
       "      <td>imagine     surprised     must     \\n edit   t...</td>\n",
       "      <td>surprised     jeffrey   epstein   commited...</td>\n",
       "    </tr>\n",
       "    <tr>\n",
       "      <th>4</th>\n",
       "      <td>He speaks with the officer, who assigns him hi...</td>\n",
       "      <td>A new Navy recruit has his first day on the su...</td>\n",
       "      <td>98257</td>\n",
       "      <td>speaks       officer     assigns       post ...</td>\n",
       "      <td>new   navy   recruit       first   day      ...</td>\n",
       "    </tr>\n",
       "    <tr>\n",
       "      <th>...</th>\n",
       "      <td>...</td>\n",
       "      <td>...</td>\n",
       "      <td>...</td>\n",
       "      <td>...</td>\n",
       "      <td>...</td>\n",
       "    </tr>\n",
       "    <tr>\n",
       "      <th>573986</th>\n",
       "      <td>He said \"You are what you eat!\"</td>\n",
       "      <td>I called Jeffrey Dahmer a faggot</td>\n",
       "      <td>0</td>\n",
       "      <td>said           eat</td>\n",
       "      <td>called   jeffrey   dahmer     faggot</td>\n",
       "    </tr>\n",
       "    <tr>\n",
       "      <th>573987</th>\n",
       "      <td>The Judicial Branch</td>\n",
       "      <td>What's hitler's least favorite branch of gover...</td>\n",
       "      <td>0</td>\n",
       "      <td>judicial   branch</td>\n",
       "      <td>hitler     least   favorite   branch     g...</td>\n",
       "    </tr>\n",
       "    <tr>\n",
       "      <th>573988</th>\n",
       "      <td>There were too many sticks in my front yard, s...</td>\n",
       "      <td>There's a faggot in the trunk of my car.</td>\n",
       "      <td>0</td>\n",
       "      <td>many   sticks       front   yard        ...</td>\n",
       "      <td>faggot       trunk       car</td>\n",
       "    </tr>\n",
       "    <tr>\n",
       "      <th>573989</th>\n",
       "      <td>When she though it snowed.\\n\\n-No it is reindeer.</td>\n",
       "      <td>What did Santa Claus say to Mrs. Claus.</td>\n",
       "      <td>0</td>\n",
       "      <td>though     snowed         reindeer</td>\n",
       "      <td>santa   claus   say     mrs   claus</td>\n",
       "    </tr>\n",
       "    <tr>\n",
       "      <th>573990</th>\n",
       "      <td>Dat hindu dindu nuffin, baby wuz a gooood boi,...</td>\n",
       "      <td>What happened to the Hindu who shot a cop?</td>\n",
       "      <td>0</td>\n",
       "      <td>dat   hindu   dindu   nuffin   baby   wuz     ...</td>\n",
       "      <td>happened       hindu     shot     cop</td>\n",
       "    </tr>\n",
       "  </tbody>\n",
       "</table>\n",
       "<p>573991 rows × 5 columns</p>\n",
       "</div>"
      ],
      "text/plain": [
       "                                                 selftext  \\\n",
       "0       RIP Larry Tesler, the UI designer that created...   \n",
       "1       Paying additional money to access certain site...   \n",
       "2       V\\n\\n*Edit: seems like the ctrl key on my keyb...   \n",
       "3       Imagine how surprised he must have been.\\n\\nEd...   \n",
       "4       He speaks with the officer, who assigns him hi...   \n",
       "...                                                   ...   \n",
       "573986                    He said \"You are what you eat!\"   \n",
       "573987                                The Judicial Branch   \n",
       "573988  There were too many sticks in my front yard, s...   \n",
       "573989  When she though it snowed.\\n\\n-No it is reindeer.   \n",
       "573990  Dat hindu dindu nuffin, baby wuz a gooood boi,...   \n",
       "\n",
       "                                                    title   score  \\\n",
       "0       Sad News: The founder of /r/jokes has passed away  142733   \n",
       "1             Calm down about the Net Neutrality thing...  136359   \n",
       "2                                                       V  106412   \n",
       "3       If your surprised that Jeffrey Epstein commite...  103652   \n",
       "4       A new Navy recruit has his first day on the su...   98257   \n",
       "...                                                   ...     ...   \n",
       "573986                   I called Jeffrey Dahmer a faggot       0   \n",
       "573987  What's hitler's least favorite branch of gover...       0   \n",
       "573988           There's a faggot in the trunk of my car.       0   \n",
       "573989            What did Santa Claus say to Mrs. Claus.       0   \n",
       "573990         What happened to the Hindu who shot a cop?       0   \n",
       "\n",
       "                                            prep_selftext  \\\n",
       "0       rip   larry   tesler     ui   designer     cre...   \n",
       "1       paying   additional   money     access   certa...   \n",
       "2       v   edit   seems   like     ctrl   key       k...   \n",
       "3       imagine     surprised     must     \\n edit   t...   \n",
       "4         speaks       officer     assigns       post ...   \n",
       "...                                                   ...   \n",
       "573986                              said           eat      \n",
       "573987                                  judicial   branch   \n",
       "573988        many   sticks       front   yard        ...   \n",
       "573989              though     snowed         reindeer      \n",
       "573990  dat   hindu   dindu   nuffin   baby   wuz     ...   \n",
       "\n",
       "                                               prep_title  \n",
       "0       sad   news     founder     r   jokes     passe...  \n",
       "1                calm         net   neutrality   thing     \n",
       "2                                                       v  \n",
       "3           surprised     jeffrey   epstein   commited...  \n",
       "4         new   navy   recruit       first   day      ...  \n",
       "...                                                   ...  \n",
       "573986               called   jeffrey   dahmer     faggot  \n",
       "573987      hitler     least   favorite   branch     g...  \n",
       "573988                    faggot       trunk       car     \n",
       "573989             santa   claus   say     mrs   claus     \n",
       "573990           happened       hindu     shot     cop     \n",
       "\n",
       "[573991 rows x 5 columns]"
      ]
     },
     "execution_count": 64,
     "metadata": {},
     "output_type": "execute_result"
    }
   ],
   "source": [
    "data"
   ]
  },
  {
   "cell_type": "code",
   "execution_count": 83,
   "metadata": {},
   "outputs": [
    {
     "name": "stderr",
     "output_type": "stream",
     "text": [
      "[nltk_data] Downloading package omw-1.4 to /Users/macbook/nltk_data...\n",
      "[nltk_data]   Unzipping corpora/omw-1.4.zip.\n"
     ]
    },
    {
     "data": {
      "text/plain": [
       "True"
      ]
     },
     "execution_count": 83,
     "metadata": {},
     "output_type": "execute_result"
    }
   ],
   "source": [
    "nltk.download('omw-1.4')"
   ]
  },
  {
   "cell_type": "code",
   "execution_count": 86,
   "metadata": {},
   "outputs": [],
   "source": [
    "from nltk import wordnet, pos_tag\n",
    "import nltk\n",
    "\n",
    "def get_wordnet_pos(treebank_tag):\n",
    "    my_switch = {\n",
    "        'J': nltk.corpus.wordnet.ADJ,\n",
    "        'V': nltk.corpus.wordnet.VERB,\n",
    "        'N': nltk.corpus.wordnet.NOUN,\n",
    "        'R': nltk.corpus.wordnet.ADV,\n",
    "    }\n",
    "    for key, item in my_switch.items():\n",
    "        if treebank_tag.startswith(key):\n",
    "            return item\n",
    "    return nltk.corpus.wordnet.NOUN"
   ]
  },
  {
   "cell_type": "code",
   "execution_count": 73,
   "metadata": {},
   "outputs": [
    {
     "name": "stderr",
     "output_type": "stream",
     "text": [
      "[nltk_data] Downloading package averaged_perceptron_tagger to\n",
      "[nltk_data]     /Users/macbook/nltk_data...\n",
      "[nltk_data]   Package averaged_perceptron_tagger is already up-to-\n",
      "[nltk_data]       date!\n"
     ]
    },
    {
     "data": {
      "text/plain": [
       "True"
      ]
     },
     "execution_count": 73,
     "metadata": {},
     "output_type": "execute_result"
    }
   ],
   "source": [
    "nltk.download('averaged_perceptron_tagger')"
   ]
  },
  {
   "cell_type": "code",
   "execution_count": 75,
   "metadata": {},
   "outputs": [
    {
     "name": "stderr",
     "output_type": "stream",
     "text": [
      "[nltk_data] Downloading package wordnet to /Users/macbook/nltk_data...\n",
      "[nltk_data]   Package wordnet is already up-to-date!\n"
     ]
    },
    {
     "data": {
      "text/plain": [
       "True"
      ]
     },
     "execution_count": 75,
     "metadata": {},
     "output_type": "execute_result"
    }
   ],
   "source": [
    "nltk.download('wordnet')"
   ]
  },
  {
   "cell_type": "code",
   "execution_count": 68,
   "metadata": {},
   "outputs": [],
   "source": [
    "from nltk import WordNetLemmatizer\n",
    "\n",
    "def my_lemmatizer(text):\n",
    "    lemmatizer = WordNetLemmatizer()\n",
    "    tokenized_sent = text.split()\n",
    "    pos_tagged = [(word, get_wordnet_pos(tag))\n",
    "                 for word, tag in pos_tag(tokenized_sent)]\n",
    "    return ' '.join([lemmatizer.lemmatize(word, tag)\n",
    "                    for word, tag in pos_tagged])"
   ]
  },
  {
   "cell_type": "code",
   "execution_count": 89,
   "metadata": {},
   "outputs": [
    {
     "data": {
      "application/vnd.jupyter.widget-view+json": {
       "model_id": "09545ca73b524620b3a93a1bd8d1e537",
       "version_major": 2,
       "version_minor": 0
      },
      "text/plain": [
       "Pandas Apply:   0%|          | 0/573991 [00:00<?, ?it/s]"
      ]
     },
     "metadata": {},
     "output_type": "display_data"
    },
    {
     "data": {
      "application/vnd.jupyter.widget-view+json": {
       "model_id": "45b44f657da64c35a1ea9efad6a450c4",
       "version_major": 2,
       "version_minor": 0
      },
      "text/plain": [
       "Pandas Apply:   0%|          | 0/573991 [00:00<?, ?it/s]"
      ]
     },
     "metadata": {},
     "output_type": "display_data"
    }
   ],
   "source": [
    "data['prep_title'] = data.prep_title.swifter.apply(my_lemmatizer)\n",
    "data['prep_selftext'] = data.prep_selftext.swifter.apply(my_lemmatizer)"
   ]
  },
  {
   "cell_type": "code",
   "execution_count": 105,
   "metadata": {},
   "outputs": [],
   "source": [
    "with open('data.pickle', 'wb') as f:\n",
    "    pickle.dump(data, f)"
   ]
  },
  {
   "cell_type": "code",
   "execution_count": 107,
   "metadata": {},
   "outputs": [],
   "source": [
    "def build_inverted_index(data):\n",
    "    inv_index = {}\n",
    "\n",
    "    for idx, row in enumerate(data.values):\n",
    "        for word in set(row.split()):\n",
    "            if word not in inv_index:\n",
    "                inv_index[word] = []\n",
    "            inv_index[word].append(idx)\n",
    "\n",
    "    return inv_index"
   ]
  },
  {
   "cell_type": "code",
   "execution_count": 108,
   "metadata": {},
   "outputs": [],
   "source": [
    "title_inv_index = build_inverted_index(data.prep_title)\n",
    "text_inv_index = build_inverted_index(data.prep_selftext)"
   ]
  },
  {
   "cell_type": "code",
   "execution_count": 110,
   "metadata": {},
   "outputs": [],
   "source": [
    "with open('title_inv_index.pickle', 'wb') as f:\n",
    "    pickle.dump(title_inv_index, f)"
   ]
  },
  {
   "cell_type": "code",
   "execution_count": 111,
   "metadata": {},
   "outputs": [],
   "source": [
    "with open('text_inv_index.pickle', 'wb') as f:\n",
    "    pickle.dump(text_inv_index, f)"
   ]
  }
 ],
 "metadata": {
  "interpreter": {
   "hash": "31f2aee4e71d21fbe5cf8b01ff0e069b9275f58929596ceb00d14d90e3e16cd6"
  },
  "kernelspec": {
   "display_name": "Python 3.8.9 64-bit",
   "language": "python",
   "name": "python3"
  },
  "language_info": {
   "codemirror_mode": {
    "name": "ipython",
    "version": 3
   },
   "file_extension": ".py",
   "mimetype": "text/x-python",
   "name": "python",
   "nbconvert_exporter": "python",
   "pygments_lexer": "ipython3",
   "version": "3.8.9"
  },
  "orig_nbformat": 4
 },
 "nbformat": 4,
 "nbformat_minor": 2
}
